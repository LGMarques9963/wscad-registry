{
 "cells": [
  {
   "attachments": {},
   "cell_type": "markdown",
   "metadata": {},
   "source": [
    "# Experiments analysis"
   ]
  },
  {
   "cell_type": "code",
   "execution_count": null,
   "metadata": {},
   "outputs": [],
   "source": [
    "import msgpack\n",
    "import edge_sim_py\n",
    "import numpy as np\n",
    "import pandas as pd\n",
    "import networkx as nx\n",
    "import matplotlib.pyplot as plt\n",
    "import matplotlib.lines as mlines\n",
    "import matplotlib.ticker as mtick"
   ]
  },
  {
   "attachments": {},
   "cell_type": "markdown",
   "metadata": {},
   "source": [
    "## Experiments description"
   ]
  },
  {
   "attachments": {},
   "cell_type": "markdown",
   "metadata": {},
   "source": [
    "### Drawing topologies"
   ]
  },
  {
   "cell_type": "code",
   "execution_count": null,
   "metadata": {},
   "outputs": [],
   "source": [
    "datasets = [\n",
    "    \"datasets/central_minimal.json\",\n",
    "    \"datasets/community_minimal.json\",\n",
    "    \"datasets/p2p_minimal.json\"\n",
    "]\n",
    "\n",
    "titles = [\n",
    "    \"Central Registry\",\n",
    "    \"Community Registry\",\n",
    "    \"P2P Registry\"\n",
    "]\n",
    "\n",
    "def display_topology(topology: object):\n",
    "    \"\"\"Method that displays the topology of the network.\n",
    "    Args:\n",
    "        topology (object): The topology object.\n",
    "    \"\"\"\n",
    "    positions = {}\n",
    "    colors = []\n",
    "\n",
    "    # Gathering the coordinates of edge servers\n",
    "    edge_server_coordinates = [edge_server.coordinates for edge_server in edge_sim_py.EdgeServer.all()]\n",
    "\n",
    "    # Gathering the coordinates of container registries\n",
    "    container_registry_coordinates = [\n",
    "        edge_server.coordinates\n",
    "        for edge_server\n",
    "        in edge_sim_py.EdgeServer.all()\n",
    "        if len([registry for registry in edge_server.container_registries if registry.available]) > 0\n",
    "    ]\n",
    "\n",
    "    for node in topology.nodes():\n",
    "\n",
    "        positions[node] = node.coordinates\n",
    "        if node.coordinates in container_registry_coordinates:\n",
    "            colors.append(\"#333333\")\n",
    "        elif node.coordinates in edge_server_coordinates:\n",
    "            colors.append(\"#888888\")\n",
    "        else:\n",
    "            colors.append(\"#dddddd\")\n",
    "\n",
    "    return positions, colors"
   ]
  },
  {
   "cell_type": "code",
   "execution_count": null,
   "metadata": {},
   "outputs": [],
   "source": [
    "fig, axs = plt.subplots(1, 3, figsize=(15, 5))\n",
    "\n",
    "for i, dataset in enumerate(datasets):\n",
    "    # Creating a Simulator object\n",
    "    simulator = edge_sim_py.Simulator()\n",
    "\n",
    "    # Loading the dataset\n",
    "    simulator.initialize(input_file=dataset)\n",
    "\n",
    "    # Getting positions and colors\n",
    "    positions, colors = display_topology(simulator.topology)\n",
    "    \n",
    "    # Drawing the topology\n",
    "    nx.draw(\n",
    "        simulator.topology,\n",
    "        pos=positions,\n",
    "        font_weight=\"bold\",\n",
    "        font_color=\"whitesmoke\",\n",
    "        node_color=colors,\n",
    "        linewidths=1,\n",
    "        edgecolors=\"black\",\n",
    "        ax=axs[i]\n",
    "    )\n",
    "\n",
    "    # Setting the title\n",
    "    axs[i].set_title(titles[i], fontsize=16, fontweight=\"bold\")\n",
    "\n",
    "\n",
    "# Legend\n",
    "bs_line = mlines.Line2D([], [], marker=\"o\", markersize=15, label=\"Base Station\", linewidth=0, markerfacecolor=\"#dddddd\", markeredgecolor=\"black\", markeredgewidth=1)\n",
    "es_line = mlines.Line2D([], [], marker=\"o\", markersize=15, label=\"Base Station + Edge Server\", linewidth=0, markerfacecolor=\"#888888\", markeredgecolor=\"black\", markeredgewidth=1)\n",
    "cr_line = mlines.Line2D([], [], marker=\"o\", markersize=15, label=\"Base Station + Edge Server + Container Registry\", linewidth=0, markerfacecolor=\"#333333\", markeredgecolor=\"black\", markeredgewidth=1)\n",
    "\n",
    "fig.legend(\n",
    "    handles=[bs_line, es_line, cr_line],\n",
    "    loc=\"lower center\",\n",
    "    ncols=3,\n",
    "    fontsize=14,\n",
    "    bbox_to_anchor=(0.5, -0.05),\n",
    ")\n",
    "\n",
    "plt.tight_layout()\n",
    "plt.savefig(\"logs/other/topologies.pdf\", bbox_inches=\"tight\")\n",
    "plt.savefig(\"logs/other/topologies.svg\", bbox_inches=\"tight\")\n",
    "plt.show()"
   ]
  },
  {
   "attachments": {},
   "cell_type": "markdown",
   "metadata": {},
   "source": [
    "## Base functions"
   ]
  },
  {
   "cell_type": "markdown",
   "metadata": {},
   "source": [
    "#### Latency"
   ]
  },
  {
   "cell_type": "code",
   "execution_count": null,
   "metadata": {},
   "outputs": [],
   "source": [
    "def get_latency():\n",
    "    user_data = []\n",
    "\n",
    "    for seed in seeds:\n",
    "        for log in logs:\n",
    "            simulation_data = {\n",
    "                \"seed\": seed,\n",
    "                \"dataset\": log,\n",
    "                \"minimal\": 0,\n",
    "                \"recommended\": 0,\n",
    "            }\n",
    "\n",
    "            for requirement in requirements:\n",
    "                # Opening file\n",
    "                user_msgpack_file = f\"{parent_dir}/algorithm={log[0]};dataset={log[1]}_{requirement};seed={seed}/User.msgpack\"\n",
    "                user_file = open(user_msgpack_file, \"rb\")\n",
    "                user_msgpack = msgpack.load(user_file)\n",
    "                user_df = pd.DataFrame(user_msgpack)\n",
    "\n",
    "                # Collecting information\n",
    "                latency = user_df[[\"Object\", \"Delays\"]]\n",
    "\n",
    "                # Persisting information\n",
    "                simulation_data[requirement] = latency[\"Delays\"].mean()\n",
    "\n",
    "                # Closing file\n",
    "                user_file.close()\n",
    "\n",
    "            # Appending data\n",
    "            user_data.append(simulation_data)\n",
    "\n",
    "    return pd.DataFrame(user_data)"
   ]
  },
  {
   "cell_type": "markdown",
   "metadata": {},
   "source": [
    "#### Service Reallocations"
   ]
  },
  {
   "cell_type": "code",
   "execution_count": null,
   "metadata": {},
   "outputs": [],
   "source": [
    "def get_reallocations_data(step):\n",
    "    service_data = []\n",
    "\n",
    "    for seed in seeds:\n",
    "        for log in logs:\n",
    "            simulation_data = {\n",
    "                \"seed\": seed,\n",
    "                \"dataset\": log,\n",
    "                \"minimal (total)\": 0,\n",
    "                \"minimal (w/o cache)\": 0,\n",
    "                \"recommended (total)\": 0,\n",
    "                \"recommended (w/o cache)\": 0,\n",
    "            }\n",
    "\n",
    "            for requirement in requirements:\n",
    "                # Opening file\n",
    "                service_msgpack_file = f\"{parent_dir}/algorithm={log[0]};dataset={log[1]}_{requirement};seed={seed}/Service.msgpack\"\n",
    "                service_file = open(service_msgpack_file, \"rb\")\n",
    "                service_msgpack = msgpack.load(service_file)\n",
    "                service_df = pd.DataFrame(service_msgpack)\n",
    "\n",
    "                # Collecting information\n",
    "                migrations_last_step = service_df[service_df[\"Time Step\"] == step][[\"Object\", \"Number of Finished Migrations\", \"Number of Finished Migrations Without Using Cache\"]]\n",
    "\n",
    "                # Persisting information\n",
    "                simulation_data[f\"{requirement} (total)\"] = migrations_last_step[\"Number of Finished Migrations\"].sum()\n",
    "                simulation_data[f\"{requirement} (w/o cache)\"] = migrations_last_step[\"Number of Finished Migrations Without Using Cache\"].sum()\n",
    "\n",
    "                # Closing file\n",
    "                service_file.close()\n",
    "\n",
    "            # Appending data\n",
    "            service_data.append(simulation_data)\n",
    "\n",
    "    return pd.DataFrame(service_data)"
   ]
  },
  {
   "cell_type": "markdown",
   "metadata": {},
   "source": [
    "#### Registry Usage"
   ]
  },
  {
   "cell_type": "code",
   "execution_count": null,
   "metadata": {},
   "outputs": [],
   "source": [
    "def get_registry_usage():\n",
    "    registry_data = []\n",
    "\n",
    "    for seed in seeds:\n",
    "        for log in logs:\n",
    "            simulation_data = {\n",
    "                \"seed\": seed,\n",
    "                \"dataset\": log,\n",
    "                \"minimal\": 0,\n",
    "                \"recommended\": 0,\n",
    "            }\n",
    "\n",
    "            for requirement in requirements:\n",
    "                # Opening file\n",
    "                registry_msgpack_file = f\"{parent_dir}/algorithm={log[0]};dataset={log[1]}_{requirement};seed={seed}/ContainerRegistry.msgpack\"\n",
    "                registry_file = open(registry_msgpack_file, \"rb\")\n",
    "                registry_msgpack = msgpack.load(registry_file)\n",
    "                registry_df = pd.DataFrame(registry_msgpack)\n",
    "\n",
    "                # Collecting information\n",
    "                registry_filtered_data = (\n",
    "                    registry_df[registry_df[\"P2P\"] == True][[\"Object\", \"Provisioning\", \"Not Provisioning\"]]\n",
    "                    if log[1] == \"p2p\"\n",
    "                    else registry_df[[\"Object\", \"Provisioning\", \"Not Provisioning\"]]\n",
    "                )\n",
    "                registry_data_grouped = registry_filtered_data.groupby(\"Object\").sum()\n",
    "                registry_data_grouped[\"Total Steps\"] = registry_data_grouped.sum(axis=1)\n",
    "                registry_data_grouped[\"Provisioning Percentage\"] = registry_data_grouped[\"Provisioning\"] / registry_data_grouped[\"Total Steps\"]\n",
    "                registry_data_grouped[\"Not Provisioning Percentage\"] = registry_data_grouped[\"Not Provisioning\"] / registry_data_grouped[\"Total Steps\"]\n",
    "\n",
    "                # Persisting information\n",
    "                simulation_data[requirement] = registry_data_grouped[\"Provisioning Percentage\"].mean()\n",
    "\n",
    "                # Closing file\n",
    "                registry_file.close()\n",
    "\n",
    "            # Appending data\n",
    "            registry_data.append(simulation_data)\n",
    "\n",
    "    return pd.DataFrame(registry_data)"
   ]
  },
  {
   "cell_type": "markdown",
   "metadata": {},
   "source": [
    "#### Number of Registries over Time"
   ]
  },
  {
   "cell_type": "code",
   "execution_count": null,
   "metadata": {},
   "outputs": [],
   "source": [
    "def get_number_of_registries(seed, requirement):\n",
    "    registry_data = {}\n",
    "\n",
    "    for log in logs:\n",
    "        # Opening file\n",
    "        registry_msgpack_file = f\"{parent_dir}/algorithm={log[0]};dataset={log[1]}_{requirement};seed={seed}/ContainerRegistry.msgpack\"\n",
    "        registry_file = open(registry_msgpack_file, \"rb\")\n",
    "        registry_msgpack = msgpack.load(registry_file)\n",
    "        registry_df = pd.DataFrame(registry_msgpack)\n",
    "\n",
    "        # Collecting information\n",
    "        registries_per_timestep = registry_df[registry_df[\"Time Step\"] > 0].groupby([\"Time Step\"]).count()[\"Object\"]\n",
    "\n",
    "        # Persisting information\n",
    "        registry_data[log[0].capitalize()] = registries_per_timestep\n",
    "\n",
    "        # Closing file\n",
    "        registry_file.close()\n",
    "\n",
    "    registries_per_timestep_df = pd.concat(registry_data, axis=1)\n",
    "\n",
    "    return registries_per_timestep_df"
   ]
  },
  {
   "cell_type": "markdown",
   "metadata": {},
   "source": [
    "#### Plot Data"
   ]
  },
  {
   "cell_type": "code",
   "execution_count": null,
   "metadata": {},
   "outputs": [],
   "source": [
    "def calculate_x(x, width, i, n):\n",
    "    return x + width * (i - n / 2) + width / 2\n",
    "\n",
    "\n",
    "def plot_data_with_grouped_bar(\n",
    "    keys: list,\n",
    "    mean_df: pd.DataFrame,\n",
    "    std_df: pd.DataFrame,\n",
    "    xlabel: str,\n",
    "    ylabel: str,\n",
    "    filename: str,\n",
    "    bbox_to_anchor: tuple,\n",
    "    yscale: str = \"linear\",\n",
    "    yticks: list = None,\n",
    "):\n",
    "    # Plotting bar chart\n",
    "    fig, ax = plt.subplots(figsize=(10, 6))\n",
    "\n",
    "    width = 0.8\n",
    "\n",
    "    hatches = [\"\", \"/\", \"|\", \"\\\\\"]\n",
    "\n",
    "    x = np.arange(len(mean_df))\n",
    "\n",
    "    for key in keys:\n",
    "        ax.bar(\n",
    "            x=calculate_x(x, width/len(keys), keys.index(key), len(keys)),\n",
    "            height=mean_df[key],\n",
    "            width=width/len(keys),\n",
    "            label=key.title(),\n",
    "            yerr=std_df[key],\n",
    "            hatch=hatches.pop(0),\n",
    "            color=\"#aaaaaa\",\n",
    "            edgecolor=\"black\",\n",
    "            linewidth=2,\n",
    "            error_kw={\"elinewidth\": 2, \"capthick\": 2, \"capsize\": 5}\n",
    "        )\n",
    "\n",
    "    # Setting labels and ticks\n",
    "    ax.legend(fontsize=20, bbox_to_anchor=bbox_to_anchor, loc=\"upper center\", ncol=2)\n",
    "    ax.set_xlabel(xlabel, fontsize=24, fontweight=\"bold\", labelpad=10)\n",
    "    ax.set_ylabel(ylabel, fontsize=24, fontweight=\"bold\", labelpad=10, loc=\"center\")\n",
    "    ax.set_xticks(x, labels)\n",
    "    ax.tick_params(axis=\"x\", labelsize=24)\n",
    "    ax.tick_params(axis=\"y\", labelsize=24)\n",
    "    ax.set_yscale(yscale)\n",
    "    if yscale == \"log\":\n",
    "        ax.set_yticks(yticks)\n",
    "        ax.get_yaxis().set_major_formatter(mtick.ScalarFormatter())\n",
    "    if ylabel == \"% of Steps Active\":\n",
    "        ax.get_yaxis().set_major_formatter(mtick.PercentFormatter(1.0, decimals=0))\n",
    "\n",
    "    # Saving figure\n",
    "    plt.tight_layout()\n",
    "    plt.savefig(f\"{filename}.pdf\", bbox_inches=\"tight\")\n",
    "    plt.savefig(f\"{filename}.svg\", bbox_inches=\"tight\")\n",
    "    plt.show()"
   ]
  },
  {
   "cell_type": "code",
   "execution_count": null,
   "metadata": {},
   "outputs": [],
   "source": [
    "def plot_registries_over_time(\n",
    "    labels: list,\n",
    "    data: pd.DataFrame,\n",
    "    xlabel: str,\n",
    "    ylabel: str,\n",
    "    filename: str,\n",
    "    bbox_to_anchor,\n",
    "):\n",
    "    fig, ax = plt.subplots(figsize=(10, 6))\n",
    "\n",
    "    ax.set_xlabel(xlabel, fontsize=24, fontweight=\"bold\", labelpad=10)\n",
    "    ax.set_ylabel(ylabel, fontsize=24, fontweight=\"bold\", labelpad=10, loc=\"center\")\n",
    "    ax.tick_params(axis=\"x\", labelsize=24)\n",
    "    ax.tick_params(axis=\"y\", labelsize=24)\n",
    "\n",
    "    p = ax.plot(\n",
    "        data,\n",
    "        linewidth=2,\n",
    "    )\n",
    "\n",
    "    # Setting line styles and colors\n",
    "    p[0].set_linestyle((0, (1, 10))) # loosely dotted\n",
    "    p[0].set_color(\"black\")\n",
    "    p[1].set_linestyle((0, (5, 5))) # dashed\n",
    "    p[1].set_color(\"black\")\n",
    "    p[2].set_color(\"black\") \n",
    "\n",
    "    # Adding legend\n",
    "    ax.legend(labels, fontsize=20, bbox_to_anchor=bbox_to_anchor, loc=\"upper center\", ncol=3)\n",
    "\n",
    "    # Saving figure\n",
    "    plt.tight_layout()\n",
    "    plt.savefig(f\"{filename}.pdf\", bbox_inches=\"tight\")\n",
    "    plt.savefig(f\"{filename}.svg\", bbox_inches=\"tight\")\n",
    "    plt.show()"
   ]
  },
  {
   "cell_type": "markdown",
   "metadata": {},
   "source": [
    "## Results"
   ]
  },
  {
   "attachments": {},
   "cell_type": "markdown",
   "metadata": {},
   "source": [
    "### Base Comparison"
   ]
  },
  {
   "cell_type": "code",
   "execution_count": null,
   "metadata": {},
   "outputs": [],
   "source": [
    "parent_dir = \"logs\"\n",
    "\n",
    "LAST_STEP = 3600\n",
    "\n",
    "logs = [\n",
    "    (\"central\", \"central\"),\n",
    "    (\"community\", \"community\"),\n",
    "    (\"p2p\", \"p2p\"),\n",
    "]\n",
    "\n",
    "seeds = [1, 2, 3, 4, 5]\n",
    "\n",
    "requirements = [\"minimal\", \"recommended\"]\n",
    "\n",
    "labels = [\"Central\", \"Community\", \"P2P\"]"
   ]
  },
  {
   "cell_type": "markdown",
   "metadata": {},
   "source": [
    "#### User latency"
   ]
  },
  {
   "cell_type": "code",
   "execution_count": null,
   "metadata": {},
   "outputs": [],
   "source": [
    "# Getting latency data\n",
    "latency_df = get_latency()\n",
    "\n",
    "# Calculating mean values and standard deviations\n",
    "latency_mean_df = latency_df.groupby([\"dataset\"]).mean()\n",
    "latency_std_df = latency_df.groupby([\"dataset\"]).std()"
   ]
  },
  {
   "cell_type": "code",
   "execution_count": null,
   "metadata": {},
   "outputs": [],
   "source": [
    "plot_data_with_grouped_bar(\n",
    "    [\"minimal\", \"recommended\"],\n",
    "    latency_mean_df,\n",
    "    latency_std_df,\n",
    "    \"Registry Provisioning Strategy\",\n",
    "    \"Mean Latency\",\n",
    "    \"logs/other/app_mean_latency_grouped\",\n",
    "    (0.5, 1.2)\n",
    ")"
   ]
  },
  {
   "attachments": {},
   "cell_type": "markdown",
   "metadata": {},
   "source": [
    "#### Service reallocations"
   ]
  },
  {
   "cell_type": "code",
   "execution_count": null,
   "metadata": {},
   "outputs": [],
   "source": [
    "# Getting reallocations data\n",
    "reallocations_df = get_reallocations_data(LAST_STEP)\n",
    "\n",
    "# Calculating mean values and standard deviations\n",
    "reallocations_mean_df = reallocations_df.groupby([\"dataset\"]).mean()\n",
    "reallocations_std_df = reallocations_df.groupby([\"dataset\"]).std()"
   ]
  },
  {
   "cell_type": "code",
   "execution_count": null,
   "metadata": {},
   "outputs": [],
   "source": [
    "plot_data_with_grouped_bar(\n",
    "    [\n",
    "        \"minimal (total)\",\n",
    "        \"minimal (w/o cache)\",\n",
    "        \"recommended (total)\",\n",
    "        \"recommended (w/o cache)\",\n",
    "    ],\n",
    "    reallocations_mean_df,\n",
    "    reallocations_std_df,\n",
    "    \"Registry Provisioning Strategy\",\n",
    "    \"Service Reallocations\",\n",
    "    \"logs/other/service_reallocations_grouped\",\n",
    "    (0.5, 1.35),\n",
    "    \"log\",\n",
    "    [100, 1000, 10000]\n",
    ")"
   ]
  },
  {
   "attachments": {},
   "cell_type": "markdown",
   "metadata": {},
   "source": [
    "#### Registry Usage"
   ]
  },
  {
   "cell_type": "code",
   "execution_count": null,
   "metadata": {},
   "outputs": [],
   "source": [
    "# Getting reallocations data\n",
    "registry_usage_df = get_registry_usage()\n",
    "\n",
    "# Calculating mean values and standard deviations\n",
    "registry_usage_mean_df = registry_usage_df.groupby([\"dataset\"]).mean()\n",
    "registry_usage_std_df = registry_usage_df.groupby([\"dataset\"]).std()"
   ]
  },
  {
   "cell_type": "code",
   "execution_count": null,
   "metadata": {},
   "outputs": [],
   "source": [
    "plot_data_with_grouped_bar(\n",
    "    [\"minimal\", \"recommended\"],\n",
    "    registry_usage_mean_df,\n",
    "    registry_usage_std_df,\n",
    "    \"Registry Provisioning Strategy\",\n",
    "    \"% of Steps Active\",\n",
    "    \"logs/other/registry_usage_grouped\",\n",
    "    (0.5, 1.2),\n",
    ")"
   ]
  },
  {
   "cell_type": "markdown",
   "metadata": {},
   "source": [
    "#### Number of registries"
   ]
  },
  {
   "cell_type": "code",
   "execution_count": null,
   "metadata": {},
   "outputs": [],
   "source": [
    "seed = 1\n",
    "requirement = \"minimal\"\n",
    "\n",
    "registry_df = get_number_of_registries(seed, requirement)"
   ]
  },
  {
   "cell_type": "code",
   "execution_count": null,
   "metadata": {},
   "outputs": [],
   "source": [
    "plot_registries_over_time(\n",
    "    labels,\n",
    "    registry_df,\n",
    "    \"Time Steps\",\n",
    "    \"Number of Registries\",\n",
    "    \"logs/other/number_of_registries_over_time\",\n",
    "    (0.5, 1.2)\n",
    ")"
   ]
  },
  {
   "attachments": {},
   "cell_type": "markdown",
   "metadata": {},
   "source": [
    "### P2P-based variation comparison"
   ]
  },
  {
   "cell_type": "code",
   "execution_count": null,
   "metadata": {},
   "outputs": [],
   "source": [
    "logs = [\n",
    "    (\"community\", \"community\"),\n",
    "    (\"p2p\", \"p2p\"),\n",
    "    (\"p2p_enhanced\", \"p2p\")\n",
    "]\n",
    "\n",
    "labels = [\"Community\", \"P2P\", \"Dynamic\"]"
   ]
  },
  {
   "cell_type": "markdown",
   "metadata": {},
   "source": [
    "#### User latency"
   ]
  },
  {
   "cell_type": "code",
   "execution_count": null,
   "metadata": {},
   "outputs": [],
   "source": [
    "# Getting data transferred data\n",
    "latency_df_2 = get_latency()\n",
    "\n",
    "# Calculating mean values and standard deviations\n",
    "latency_mean_df_2 = latency_df_2.groupby([\"dataset\"]).mean()\n",
    "latency_std_df_2 = latency_df_2.groupby([\"dataset\"]).std()"
   ]
  },
  {
   "cell_type": "code",
   "execution_count": null,
   "metadata": {},
   "outputs": [],
   "source": [
    "plot_data_with_grouped_bar(\n",
    "    [\"minimal\", \"recommended\"],\n",
    "    latency_mean_df_2,\n",
    "    latency_std_df_2,\n",
    "    \"Registry Provisioning Strategy\",\n",
    "    \"Mean Latency\",\n",
    "    \"logs/other/app_mean_latency_grouped_2\",\n",
    "    (0.5, 1.2)\n",
    ")"
   ]
  },
  {
   "attachments": {},
   "cell_type": "markdown",
   "metadata": {},
   "source": [
    "#### Service reallocations"
   ]
  },
  {
   "cell_type": "code",
   "execution_count": null,
   "metadata": {},
   "outputs": [],
   "source": [
    "# Getting reallocations data\n",
    "reallocations_df_2 = get_reallocations_data(LAST_STEP)\n",
    "\n",
    "# Calculating mean values and standard deviations\n",
    "reallocations_mean_df_2 = reallocations_df_2.groupby([\"dataset\"]).mean()\n",
    "reallocations_std_df_2 = reallocations_df_2.groupby([\"dataset\"]).std()"
   ]
  },
  {
   "cell_type": "code",
   "execution_count": null,
   "metadata": {},
   "outputs": [],
   "source": [
    "plot_data_with_grouped_bar(\n",
    "    [\n",
    "        \"minimal (total)\",\n",
    "        \"minimal (w/o cache)\",\n",
    "        \"recommended (total)\",\n",
    "        \"recommended (w/o cache)\",\n",
    "    ],\n",
    "    reallocations_mean_df_2,\n",
    "    reallocations_std_df_2,\n",
    "    \"Registry Provisioning Strategy\",\n",
    "    \"Service Reallocations\",\n",
    "    \"logs/other/service_reallocations_grouped_2\",\n",
    "    (0.5, 1.35),\n",
    "    \"log\",\n",
    "    [100, 1000, 10000]\n",
    ")"
   ]
  },
  {
   "attachments": {},
   "cell_type": "markdown",
   "metadata": {},
   "source": [
    "#### Registry Usage"
   ]
  },
  {
   "cell_type": "code",
   "execution_count": null,
   "metadata": {},
   "outputs": [],
   "source": [
    "# Getting data transferred data\n",
    "registry_usage_df_2 = get_registry_usage()\n",
    "\n",
    "# Calculating mean values and standard deviations\n",
    "registry_usage_mean_df_2 = registry_usage_df_2.groupby([\"dataset\"]).mean()\n",
    "registry_usage_std_df_2 = registry_usage_df_2.groupby([\"dataset\"]).std()"
   ]
  },
  {
   "cell_type": "code",
   "execution_count": null,
   "metadata": {},
   "outputs": [],
   "source": [
    "plot_data_with_grouped_bar(\n",
    "    [\"minimal\", \"recommended\"],\n",
    "    registry_usage_mean_df_2,\n",
    "    registry_usage_std_df_2,\n",
    "    \"Registry Provisioning Strategy\",\n",
    "    \"% of Steps Active\",\n",
    "    \"logs/other/registry_usage_grouped_2\",\n",
    "    (0.5, 1.2)\n",
    ")"
   ]
  },
  {
   "cell_type": "markdown",
   "metadata": {},
   "source": [
    "#### Number of Registries"
   ]
  },
  {
   "cell_type": "code",
   "execution_count": null,
   "metadata": {},
   "outputs": [],
   "source": [
    "seed = 1\n",
    "requirement = \"minimal\"\n",
    "\n",
    "registry_df = get_number_of_registries(seed, requirement)"
   ]
  },
  {
   "cell_type": "code",
   "execution_count": null,
   "metadata": {},
   "outputs": [],
   "source": [
    "plot_registries_over_time(\n",
    "    labels,\n",
    "    registry_df,\n",
    "    \"Time Steps\",\n",
    "    \"Number of Registries\",\n",
    "    \"logs/other/number_of_registries_over_time_2\",\n",
    "    (0.5, 1.2)\n",
    ")"
   ]
  }
 ],
 "metadata": {
  "kernelspec": {
   "display_name": "Python 3 (ipykernel)",
   "language": "python",
   "name": "python3"
  },
  "language_info": {
   "codemirror_mode": {
    "name": "ipython",
    "version": 3
   },
   "file_extension": ".py",
   "mimetype": "text/x-python",
   "name": "python",
   "nbconvert_exporter": "python",
   "pygments_lexer": "ipython3",
   "version": "3.10.9"
  },
  "orig_nbformat": 4
 },
 "nbformat": 4,
 "nbformat_minor": 2
}
