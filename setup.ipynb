{
  "cells": [
    {
      "cell_type": "markdown",
      "metadata": {},
      "source": [
        "# Clean"
      ]
    },
    {
      "cell_type": "code",
      "execution_count": null,
      "metadata": {},
      "outputs": [],
      "source": [
        "%%bash\n",
        "\n",
        "rm -rf logs\n",
        "rm -rf datasets/*.json\n",
        "rm -rf datasets/topologies/*.png"
      ]
    },
    {
      "cell_type": "markdown",
      "metadata": {},
      "source": [
        "# Install dependencies"
      ]
    },
    {
      "cell_type": "code",
      "execution_count": null,
      "metadata": {},
      "outputs": [],
      "source": [
        "%%bash\n",
        "\n",
        "poetry install"
      ]
    },
    {
      "cell_type": "markdown",
      "metadata": {},
      "source": [
        "# Create datasets"
      ]
    },
    {
      "cell_type": "code",
      "execution_count": null,
      "metadata": {
        "colab": {
          "base_uri": "https://localhost:8080/"
        },
        "id": "FKJyEo5AKTEQ",
        "outputId": "7fce12d3-7d73-4648-ae4d-05bcedc5e408"
      },
      "outputs": [],
      "source": [
        "%%bash\n",
        "\n",
        "# Create datasets\n",
        "poetry run python -m datasets -s 1 -i datasets/inputs/base_minimal.json -o central_minimal -rp central && \\\n",
        "poetry run python -m datasets -s 1 -i datasets/inputs/base_recommended.json -o central_recommended -rp central && \\\n",
        "poetry run python -m datasets -s 1 -i datasets/inputs/base_minimal.json -o community_minimal -rp community -c 6 && \\\n",
        "poetry run python -m datasets -s 1 -i datasets/inputs/base_recommended.json -o community_recommended -rp community -c 6 && \\\n",
        "poetry run python -m datasets -s 1 -i datasets/inputs/base_minimal.json -o p2p_minimal -rp p2p && \\\n",
        "poetry run python -m datasets -s 1 -i datasets/inputs/base_recommended.json -o p2p_recommended -rp p2p"
      ]
    },
    {
      "cell_type": "markdown",
      "metadata": {},
      "source": [
        "# Run experiments"
      ]
    },
    {
      "cell_type": "code",
      "execution_count": null,
      "metadata": {
        "id": "sSAboqBbKXks"
      },
      "outputs": [],
      "source": [
        "%%bash\n",
        "\n",
        "# Run experiments\n",
        "datasets=(\"central_minimal,central\" \"central_recommended,central\" \\\n",
        "    \"community_minimal,community\" \"community_recommended,community\" \\\n",
        "    \"p2p_minimal,p2p\" \"p2p_recommended,p2p\" \\\n",
        "    \"p2p_minimal,p2p_enhanced\" \"p2p_recommended,p2p_enhanced\")\n",
        "\n",
        "for item in \"${datasets[@]}\"; do\n",
        "    for seed in {1..5}; do\n",
        "        IFS=',' read -r dataset algo <<< \"$item\"\n",
        "        \n",
        "        echo \"$dataset $algo $seed\"\n",
        "        if [ ! -d \"logs/algorithm=$algo;dataset=$dataset;seed=$seed\" ]; then\n",
        "            poetry run python -m simulation -a $algo -d datasets/$dataset.json -s $seed -n 3600\n",
        "        fi\n",
        "    done\n",
        "done\n",
        "\n",
        "# Check logs\n",
        "ls -R logs"
      ]
    },
    {
      "cell_type": "markdown",
      "metadata": {},
      "source": [
        "# Compress results using 7zip"
      ]
    },
    {
      "cell_type": "code",
      "execution_count": null,
      "metadata": {},
      "outputs": [],
      "source": [
        "%%bash\n",
        "\n",
        "sudo apt-get update\n",
        "sudo apt-get -y install p7zip-full\n",
        "7za a logs.7z logs"
      ]
    }
  ],
  "metadata": {
    "colab": {
      "provenance": []
    },
    "kernelspec": {
      "display_name": "Python 3",
      "name": "python3"
    },
    "language_info": {
      "codemirror_mode": {
        "name": "ipython",
        "version": 3
      },
      "file_extension": ".py",
      "mimetype": "text/x-python",
      "name": "python",
      "nbconvert_exporter": "python",
      "pygments_lexer": "ipython3",
      "version": "3.10.13"
    }
  },
  "nbformat": 4,
  "nbformat_minor": 0
}
